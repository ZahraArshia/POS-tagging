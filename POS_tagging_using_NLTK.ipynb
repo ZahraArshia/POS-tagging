{
  "nbformat": 4,
  "nbformat_minor": 0,
  "metadata": {
    "colab": {
      "name": "POS tagging using NLTK.ipynb",
      "provenance": [],
      "authorship_tag": "ABX9TyPVyDhpwZZCLHddQR6uv5kM",
      "include_colab_link": true
    },
    "kernelspec": {
      "name": "python3",
      "display_name": "Python 3"
    },
    "language_info": {
      "name": "python"
    }
  },
  "cells": [
    {
      "cell_type": "markdown",
      "metadata": {
        "id": "view-in-github",
        "colab_type": "text"
      },
      "source": [
        "<a href=\"https://colab.research.google.com/github/ZahraArshia/POS-tagging/blob/main/POS_tagging_using_NLTK.ipynb\" target=\"_parent\"><img src=\"https://colab.research.google.com/assets/colab-badge.svg\" alt=\"Open In Colab\"/></a>"
      ]
    },
    {
      "cell_type": "code",
      "execution_count": 1,
      "metadata": {
        "id": "3rQoc5RtbbNq"
      },
      "outputs": [],
      "source": [
        "from nltk import pos_tag\n",
        "from nltk import RegexpParser"
      ]
    },
    {
      "cell_type": "code",
      "source": [
        "text =\"User interface is the process of shifting from chaotic complexity to elegant simplicity.\".split()"
      ],
      "metadata": {
        "id": "GH70mBFMcOOb"
      },
      "execution_count": 2,
      "outputs": []
    },
    {
      "cell_type": "code",
      "source": [
        "print(\"After Split:\",text)"
      ],
      "metadata": {
        "colab": {
          "base_uri": "https://localhost:8080/"
        },
        "id": "7hwx9qfhcNcq",
        "outputId": "79028973-e2ae-499c-9278-8ceb2b6c7fa2"
      },
      "execution_count": 3,
      "outputs": [
        {
          "output_type": "stream",
          "name": "stdout",
          "text": [
            "After Split: ['User', 'interface', 'is', 'the', 'process', 'of', 'shifting', 'from', 'chaotic', 'complexity', 'to', 'elegant', 'simplicity.']\n"
          ]
        }
      ]
    },
    {
      "cell_type": "code",
      "source": [
        "import nltk\n",
        "nltk.download('averaged_perceptron_tagger')"
      ],
      "metadata": {
        "id": "i_Iv919WcqPX"
      },
      "execution_count": null,
      "outputs": []
    },
    {
      "cell_type": "code",
      "source": [
        "tokens_tag = pos_tag(text)\n",
        "print(\"After Token:\",tokens_tag)"
      ],
      "metadata": {
        "colab": {
          "base_uri": "https://localhost:8080/"
        },
        "id": "A5CnvvzycctP",
        "outputId": "a9407e8a-982b-44dd-8a3f-d1da24a7e846"
      },
      "execution_count": 7,
      "outputs": [
        {
          "output_type": "stream",
          "name": "stdout",
          "text": [
            "After Token: [('User', 'NNP'), ('interface', 'NN'), ('is', 'VBZ'), ('the', 'DT'), ('process', 'NN'), ('of', 'IN'), ('shifting', 'VBG'), ('from', 'IN'), ('chaotic', 'JJ'), ('complexity', 'NN'), ('to', 'TO'), ('elegant', 'VB'), ('simplicity.', 'NN')]\n"
          ]
        }
      ]
    },
    {
      "cell_type": "code",
      "source": [
        "patterns= \"\"\"mychunk:{<NN.?>*<VBD.?>*<JJ.?>*<CC>?}\"\"\"\n",
        "chunker = RegexpParser(patterns)\n",
        "print(\"After Regex:\",chunker)"
      ],
      "metadata": {
        "colab": {
          "base_uri": "https://localhost:8080/"
        },
        "id": "mOE3aMdoctPA",
        "outputId": "f53a6518-5e35-4562-acd4-da74d16df23e"
      },
      "execution_count": 8,
      "outputs": [
        {
          "output_type": "stream",
          "name": "stdout",
          "text": [
            "After Regex: chunk.RegexpParser with 1 stages:\n",
            "RegexpChunkParser with 1 rules:\n",
            "       <ChunkRule: '<NN.?>*<VBD.?>*<JJ.?>*<CC>?'>\n"
          ]
        }
      ]
    },
    {
      "cell_type": "code",
      "source": [
        "output = chunker.parse(tokens_tag)\n",
        "print(\"After Chunking\",output)"
      ],
      "metadata": {
        "colab": {
          "base_uri": "https://localhost:8080/"
        },
        "id": "QQ-UdgZjdF8-",
        "outputId": "258d96c8-e245-4a46-e009-1c48829af11d"
      },
      "execution_count": 9,
      "outputs": [
        {
          "output_type": "stream",
          "name": "stdout",
          "text": [
            "After Chunking (S\n",
            "  (mychunk User/NNP interface/NN)\n",
            "  is/VBZ\n",
            "  the/DT\n",
            "  (mychunk process/NN)\n",
            "  of/IN\n",
            "  shifting/VBG\n",
            "  from/IN\n",
            "  (mychunk chaotic/JJ)\n",
            "  (mychunk complexity/NN)\n",
            "  to/TO\n",
            "  elegant/VB\n",
            "  (mychunk simplicity./NN))\n"
          ]
        }
      ]
    }
  ]
}
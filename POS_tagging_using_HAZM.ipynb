{
  "nbformat": 4,
  "nbformat_minor": 0,
  "metadata": {
    "colab": {
      "name": "POS tagging using HAZM.ipynb",
      "provenance": [],
      "authorship_tag": "ABX9TyMfXAOc0y19BL0eDkn6ocUi",
      "include_colab_link": true
    },
    "kernelspec": {
      "name": "python3",
      "display_name": "Python 3"
    },
    "language_info": {
      "name": "python"
    },
    "accelerator": "TPU"
  },
  "cells": [
    {
      "cell_type": "markdown",
      "metadata": {
        "id": "view-in-github",
        "colab_type": "text"
      },
      "source": [
        "<a href=\"https://colab.research.google.com/github/ZahraArshia/POS-tagging/blob/main/POS_tagging_using_HAZM.ipynb\" target=\"_parent\"><img src=\"https://colab.research.google.com/assets/colab-badge.svg\" alt=\"Open In Colab\"/></a>"
      ]
    },
    {
      "cell_type": "code",
      "execution_count": null,
      "metadata": {
        "id": "a51Slu0xo7PE"
      },
      "outputs": [],
      "source": [
        "!pip install hazm"
      ]
    },
    {
      "cell_type": "code",
      "source": [
        "from __future__ import unicode_literals\n",
        "from hazm import *"
      ],
      "metadata": {
        "id": "1du0X3QHpWbE"
      },
      "execution_count": 2,
      "outputs": []
    },
    {
      "cell_type": "code",
      "source": [
        "text = \"اگر کمی درنگ کنیم می‌توانیم ببینیم که در این زمانه تحقیر اکثر کسانی که رفتاری نسبتا شرافتمندانه از خود نشان می‌دهند از متن همین توده مردم گمنام برخاسته‌اند و نه از جرگه نخبگان زمانه و شخصیت‌های برجسته!\""
      ],
      "metadata": {
        "id": "8yrTfLG0pZ3l"
      },
      "execution_count": 1,
      "outputs": []
    },
    {
      "cell_type": "code",
      "source": [
        "tagger = POSTagger ( model = 'resources/postagger.model' )\n",
        "tagger.tag ( word_tokenize(text))"
      ],
      "metadata": {
        "id": "nCaSFKRzp3qa"
      },
      "execution_count": null,
      "outputs": []
    },
    {
      "cell_type": "code",
      "source": [
        "chunker = Chunker( model= 'resources/chunker.model' )\n",
        "tagged = tagger.tag ( word_tokenize(text))\n",
        "tree2brackets( chunker.parse (tagged))"
      ],
      "metadata": {
        "id": "4U7pW76irB_P"
      },
      "execution_count": null,
      "outputs": []
    },
    {
      "cell_type": "code",
      "source": [
        ""
      ],
      "metadata": {
        "id": "lEJlh8aBrQLr"
      },
      "execution_count": null,
      "outputs": []
    }
  ]
}